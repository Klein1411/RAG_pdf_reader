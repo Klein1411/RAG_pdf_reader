{
 "cells": [
  {
   "cell_type": "code",
   "execution_count": 1,
   "id": "4d2190b1",
   "metadata": {},
   "outputs": [],
   "source": [
    "from dotenv import load_dotenv\n",
    "load_dotenv()  \n",
    "import os"
   ]
  },
  {
   "cell_type": "code",
   "execution_count": 2,
   "id": "af53c7ef",
   "metadata": {},
   "outputs": [],
   "source": [
    "from sqlalchemy import create_engine, Column, String, LargeBinary, DateTime, Integer, UniqueConstraint\n",
    "from sqlalchemy.orm import declarative_base\n",
    "from sqlalchemy.orm import sessionmaker\n",
    "from datetime import datetime, timezone\n",
    "Base = declarative_base()"
   ]
  },
  {
   "cell_type": "code",
   "execution_count": 3,
   "id": "07a6d1b9",
   "metadata": {},
   "outputs": [],
   "source": [
    "# gọi hàm tạo bảng thông qua base"
   ]
  },
  {
   "cell_type": "code",
   "execution_count": 4,
   "id": "da771348",
   "metadata": {},
   "outputs": [],
   "source": [
    "class DocumentVector(Base):\n",
    "    __tablename__ = 'document_vectors'\n",
    "    # Surrogate Pk\n",
    "    doc_id = Column(Integer, primary_key = True, autoincrement = True)\n",
    "    file_name = Column(String, nullable = False)\n",
    "    checksum = Column(String, nullable = False, unique = True)\n",
    "    vector = Column(LargeBinary, nullable = False)\n",
    "    Updated_at = Column(DateTime, default = lambda: datetime.now(timezone.utc), onupdate = lambda: datetime.now(timezone.utc), nullable = False)\n",
    "    # Chỉ cần thêm dấu , để biến nó thành tuple 1 phần tử\n",
    "    __table_args__ = (UniqueConstraint(\"checksum\",name =\"uq_document_checksum\"),)"
   ]
  },
  {
   "cell_type": "code",
   "execution_count": null,
   "id": "c2c3b0d1",
   "metadata": {},
   "outputs": [
    {
     "name": "stdout",
     "output_type": "stream",
     "text": [
      "2025-09-23 11:37:28,085 INFO sqlalchemy.engine.Engine select pg_catalog.version()\n",
      "2025-09-23 11:37:28,086 INFO sqlalchemy.engine.Engine [raw sql] {}\n",
      "2025-09-23 11:37:28,257 INFO sqlalchemy.engine.Engine select current_schema()\n",
      "2025-09-23 11:37:28,257 INFO sqlalchemy.engine.Engine [raw sql] {}\n",
      "2025-09-23 11:37:28,433 INFO sqlalchemy.engine.Engine show standard_conforming_strings\n",
      "2025-09-23 11:37:28,433 INFO sqlalchemy.engine.Engine [raw sql] {}\n",
      "2025-09-23 11:37:28,619 INFO sqlalchemy.engine.Engine BEGIN (implicit)\n",
      "2025-09-23 11:37:28,622 INFO sqlalchemy.engine.Engine SELECT pg_catalog.pg_class.relname \n",
      "FROM pg_catalog.pg_class JOIN pg_catalog.pg_namespace ON pg_catalog.pg_namespace.oid = pg_catalog.pg_class.relnamespace \n",
      "WHERE pg_catalog.pg_class.relname = %(table_name)s AND pg_catalog.pg_class.relkind = ANY (ARRAY[%(param_1)s, %(param_2)s, %(param_3)s, %(param_4)s, %(param_5)s]) AND pg_catalog.pg_table_is_visible(pg_catalog.pg_class.oid) AND pg_catalog.pg_namespace.nspname != %(nspname_1)s\n",
      "2025-09-23 11:37:28,622 INFO sqlalchemy.engine.Engine [generated in 0.00074s] {'table_name': 'document_vectors', 'param_1': 'r', 'param_2': 'p', 'param_3': 'f', 'param_4': 'v', 'param_5': 'm', 'nspname_1': 'pg_catalog'}\n",
      "2025-09-23 11:37:28,812 INFO sqlalchemy.engine.Engine \n",
      "CREATE TABLE document_vectors (\n",
      "\tdoc_id SERIAL NOT NULL, \n",
      "\tfile_name VARCHAR NOT NULL, \n",
      "\tchecksum VARCHAR NOT NULL, \n",
      "\tvector BYTEA NOT NULL, \n",
      "\t\"Updated_at\" TIMESTAMP WITHOUT TIME ZONE NOT NULL, \n",
      "\tPRIMARY KEY (doc_id), \n",
      "\tCONSTRAINT uq_document_checksum UNIQUE (checksum), \n",
      "\tUNIQUE (checksum)\n",
      ")\n",
      "\n",
      "\n",
      "2025-09-23 11:37:28,812 INFO sqlalchemy.engine.Engine [no key 0.00171s] {}\n",
      "2025-09-23 11:37:28,944 INFO sqlalchemy.engine.Engine COMMIT\n"
     ]
    }
   ],
   "source": [
    "DB_URL = os.environ[\"DB_URL\"]\n",
    "engine = create_engine(DB_URL, echo = False, connect_args = {\"sslmode\": \"require\"})\n",
    "SessionLocal = sessionmaker(bind = engine)\n",
    "Base.metadata.create_all(engine)"
   ]
  }
 ],
 "metadata": {
  "kernelspec": {
   "display_name": "t",
   "language": "python",
   "name": "python3"
  },
  "language_info": {
   "codemirror_mode": {
    "name": "ipython",
    "version": 3
   },
   "file_extension": ".py",
   "mimetype": "text/x-python",
   "name": "python",
   "nbconvert_exporter": "python",
   "pygments_lexer": "ipython3",
   "version": "3.12.10"
  }
 },
 "nbformat": 4,
 "nbformat_minor": 5
}
