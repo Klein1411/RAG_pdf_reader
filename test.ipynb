{
 "cells": [
  {
   "cell_type": "code",
   "execution_count": 1,
   "id": "4d2190b1",
   "metadata": {},
   "outputs": [],
   "source": [
    "from dotenv import load_dotenv\n",
    "load_dotenv()  \n",
    "import os"
   ]
  },
  {
   "cell_type": "code",
   "execution_count": 2,
   "id": "af53c7ef",
   "metadata": {},
   "outputs": [],
   "source": [
    "from sqlalchemy import create_engine, Column, String, LargeBinary, DateTime, Integer, UniqueConstraint\n",
    "from sqlalchemy.orm import declarative_base\n",
    "from sqlalchemy.orm import sessionmaker\n",
    "from datetime import datetime, timezone\n",
    "Base = declarative_base()"
   ]
  },
  {
   "cell_type": "code",
   "execution_count": 3,
   "id": "07a6d1b9",
   "metadata": {},
   "outputs": [],
   "source": [
    "# gọi hàm tạo bảng thông qua base"
   ]
  },
  {
   "cell_type": "code",
   "execution_count": 4,
   "id": "da771348",
   "metadata": {},
   "outputs": [],
   "source": [
    "class DocumentVector(Base):\n",
    "    __tablename__ = 'document_vectors'\n",
    "    # Surrogate Pk\n",
    "    doc_id = Column(Integer, primary_key = True, autoincrement = True)\n",
    "    file_name = Column(String, nullable = False)\n",
    "    checksum = Column(String, nullable = False, unique = True)\n",
    "    vector = Column(LargeBinary, nullable = False)\n",
    "    Updated_at = Column(DateTime, default = lambda: datetime.now(timezone.utc), onupdate = lambda: datetime.now(timezone.utc), nullable = False)\n",
    "    # Chỉ cần thêm dấu , để biến nó thành tuple 1 phần tử\n",
    "    __table_args__ = (UniqueConstraint(\"checksum\",name =\"uq_document_checksum\"),)"
   ]
  },
  {
   "cell_type": "code",
   "execution_count": 5,
   "id": "c2c3b0d1",
   "metadata": {},
   "outputs": [],
   "source": [
    "DB_URL = os.environ[\"DB_URL\"]\n",
    "engine = create_engine(DB_URL, echo = False, connect_args = {\"sslmode\": \"require\"})\n",
    "SessionLocal = sessionmaker(bind = engine)\n",
    "Base.metadata.create_all(engine)"
   ]
  },
  {
   "cell_type": "code",
   "execution_count": 6,
   "id": "a13aec8d",
   "metadata": {},
   "outputs": [],
   "source": [
    "# insert thử\n",
    "# import numpy as np \n",
    "# dummy_vector = np.random.rand(128).astype(\"float32\").tobytes()\n",
    "\n",
    "# new_doc = DocumentVector(\n",
    "#     file_name = \"test.pdf\",\n",
    "#     checksum = \"abc123\",\n",
    "#     vector = dummy_vector\n",
    "# )\n",
    "# session = SessionLocal()\n",
    "# session.add(new_doc)\n",
    "# session.commit()\n",
    "# print(\"insert thanh cong\")"
   ]
  },
  {
   "cell_type": "code",
   "execution_count": 7,
   "id": "56ac3eb3",
   "metadata": {},
   "outputs": [],
   "source": [
    "# print thử\n",
    "# docs = session.query(DocumentVector).all()\n",
    "# for d in docs:\n",
    "#     print(d.doc_id, d.file_name, d.checksum, len(d.vector))"
   ]
  },
  {
   "cell_type": "code",
   "execution_count": 8,
   "id": "7d7e4da4",
   "metadata": {},
   "outputs": [],
   "source": [
    "# upd checksum thử\n",
    "# doc = session.query(DocumentVector).filter_by(file_name = \"test.pdf\").first()\n",
    "# if doc:\n",
    "#     doc.checksum = \"asd233\"\n",
    "#     session.commit()\n",
    "# print(\"upd thanh cong\")"
   ]
  },
  {
   "cell_type": "code",
   "execution_count": 9,
   "id": "fad2adcf",
   "metadata": {},
   "outputs": [],
   "source": [
    "# delete thử\n",
    "# doc = session.query(DocumentVector).filter_by(file_name=\"test.pdf\").first()\n",
    "# if doc:\n",
    "#     session.delete(doc)\n",
    "#     session.commit()\n",
    "#     print(\"✅ Delete thành công!\")"
   ]
  },
  {
   "cell_type": "code",
   "execution_count": 10,
   "id": "e951a9a3",
   "metadata": {},
   "outputs": [],
   "source": [
    "# Thay vì lưu nguyên text cả file, cần chia nhỏ thành các chunks để embedding và retrieval chính xác hơn.\n",
    "# chunk_overlap: số ký tự chồng lấn giữa hai chunk để giữ ngữ cảnh."
   ]
  },
  {
   "cell_type": "code",
   "execution_count": 11,
   "id": "f4a0a250",
   "metadata": {},
   "outputs": [],
   "source": [
    "from langchain.text_splitter import RecursiveCharacterTextSplitter\n",
    "def split_text_into_chunks(text: str, chunk_size: int = 1000, chunk_overlap: int=200):\n",
    "    splitter = RecursiveCharacterTextSplitter(\n",
    "        chunk_size = chunk_size,\n",
    "        chunk_overlap = chunk_overlap\n",
    "    )\n",
    "    return splitter.split_text(text)"
   ]
  },
  {
   "cell_type": "code",
   "execution_count": 12,
   "id": "58909ab2",
   "metadata": {},
   "outputs": [],
   "source": [
    "# \"sentence-transformers/all-MiniLM-L6-v2\" → 384 chiều, nhanh, gọn.\n",
    "\n",
    "# \"sentence-transformers/multi-qa-MiniLM-L6-cos-v1\" → tối ưu cho semantic search, cũng 384 chiều.\n",
    "\n",
    "# \"BAAI/bge-small-en-v1.5\" → mạnh hơn một chút, 384 chiều.\n",
    "\n",
    "# Nếu cần hỗ trợ đa ngôn ngữ (tiếng Việt/Anh): \"distiluse-base-multilingual-cased-v2\" (512 chiều)."
   ]
  },
  {
   "cell_type": "code",
   "execution_count": 13,
   "id": "2b374ff1",
   "metadata": {},
   "outputs": [],
   "source": [
    "# pip install -U FlagEmbedding\n",
    "# Visualized-BGE Mở rộng BGE để xử lý multi-modal: text, image hoặc kết hợp cả hai\n",
    "# BGE-Large-en-v1.5\n",
    "# BGE-M3"
   ]
  },
  {
   "cell_type": "code",
   "execution_count": 14,
   "id": "252921d6",
   "metadata": {},
   "outputs": [
    {
     "data": {
      "application/vnd.jupyter.widget-view+json": {
       "model_id": "9ecb682a37564ac5a2808b59c5bb7bc6",
       "version_major": 2,
       "version_minor": 0
      },
      "text/plain": [
       "Fetching 30 files:   0%|          | 0/30 [00:00<?, ?it/s]"
      ]
     },
     "metadata": {},
     "output_type": "display_data"
    }
   ],
   "source": [
    "from FlagEmbedding.inference.embedder.encoder_only.m3 import M3Embedder\n",
    "embedder = M3Embedder(\n",
    "    model_name_or_path=\"BAAI/bge-m3\",  # bắt buộc\n",
    "    normalize_embeddings=True,         # normalize về unit-norm\n",
    "    use_fp16=True                     # False nếu CPU, True nếu GPU\n",
    ")\n"
   ]
  },
  {
   "cell_type": "code",
   "execution_count": 15,
   "id": "41b9b3fc",
   "metadata": {},
   "outputs": [],
   "source": [
    "def get_embedding_local(text: str) -> list[float]:\n",
    "    \"\"\"\n",
    "    Trả về vector embedding đã được chuẩn hóa (cosine-ready) \n",
    "    dưới dạng Python list float.\n",
    "    \"\"\"\n",
    "    emb = embedder.embed(text)\n",
    "    # emb đã là list float, normalized nếu bạn bật normalize=True\n",
    "    return emb \n"
   ]
  },
  {
   "cell_type": "code",
   "execution_count": 16,
   "id": "6e271cf2",
   "metadata": {},
   "outputs": [
    {
     "ename": "IndentationError",
     "evalue": "expected an indented block after 'if' statement on line 27 (3296337316.py, line 28)",
     "output_type": "error",
     "traceback": [
      "  \u001b[36mCell\u001b[39m\u001b[36m \u001b[39m\u001b[32mIn[16]\u001b[39m\u001b[32m, line 28\u001b[39m\n\u001b[31m    \u001b[39m\u001b[31mupsert_document_vector(r\"D:\\Project_self\\pdf_place\\CleanCode.pdf\")\u001b[39m\n    ^\n\u001b[31mIndentationError\u001b[39m\u001b[31m:\u001b[39m expected an indented block after 'if' statement on line 27\n"
     ]
    }
   ],
   "source": [
    "import hashlib\n",
    "from flagembedding.inference.auto_embedder import FlagAutoModel\n",
    "import pdfplumber\n",
    "\n",
    "def read_pdf_utf8(path: str) -> str:\n",
    "    text = \"\"\n",
    "    with pdfplumber.open(path) as pdf:\n",
    "        for page in pdf.pages:\n",
    "            text += page.extract_text() or \"\"\n",
    "    # đảm bảo UTF-8, loại bỏ ký tự lỗi\n",
    "    return text.encode(\"utf-8\", errors=\"ignore\").decode(\"utf-8\")\n",
    "\n",
    "def upsert_document_vector(path: str):\n",
    "    session = SessionLocal()\n",
    "    try:\n",
    "        text = read_pdf_utf8(path)\n",
    "        checksum = hashlib.sha256(text.encode(\"utf-8\")).hexdigest()\n",
    "        vector = embedder.embed(text)\n",
    "        doc = DocumentVector(file_name = path, checksum = checksum, vector = vector)\n",
    "        session.merge(doc)\n",
    "        session.commit()\n",
    "        print(\"done\", path)\n",
    "    finally: \n",
    "        session.close()\n",
    "    \n",
    "    \n",
    "    if __name__ == \"__main__\":\n",
    "    upsert_document_vector(r\"D:\\Project_self\\pdf_place\\CleanCode.pdf\")"
   ]
  }
 ],
 "metadata": {
  "kernelspec": {
   "display_name": "t",
   "language": "python",
   "name": "python3"
  },
  "language_info": {
   "codemirror_mode": {
    "name": "ipython",
    "version": 3
   },
   "file_extension": ".py",
   "mimetype": "text/x-python",
   "name": "python",
   "nbconvert_exporter": "python",
   "pygments_lexer": "ipython3",
   "version": "3.12.10"
  }
 },
 "nbformat": 4,
 "nbformat_minor": 5
}
