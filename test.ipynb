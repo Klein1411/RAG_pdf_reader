{
 "cells": [
  {
   "cell_type": "code",
   "execution_count": 1,
   "id": "4d2190b1",
   "metadata": {},
   "outputs": [],
   "source": [
    "from dotenv import load_dotenv\n",
    "load_dotenv()  \n",
    "import os"
   ]
  },
  {
   "cell_type": "code",
   "execution_count": 2,
   "id": "af53c7ef",
   "metadata": {},
   "outputs": [],
   "source": [
    "from sqlalchemy import create_engine, Column, String, LargeBinary, DateTime, Integer, UniqueConstraint\n",
    "from sqlalchemy.orm import declarative_base\n",
    "from sqlalchemy.orm import sessionmaker\n",
    "from datetime import datetime, timezone\n",
    "Base = declarative_base()"
   ]
  },
  {
   "cell_type": "code",
   "execution_count": 3,
   "id": "07a6d1b9",
   "metadata": {},
   "outputs": [],
   "source": [
    "# gọi hàm tạo bảng thông qua base"
   ]
  },
  {
   "cell_type": "code",
   "execution_count": 3,
   "id": "da771348",
   "metadata": {},
   "outputs": [],
   "source": [
    "class DocumentVector(Base):\n",
    "    __tablename__ = 'document_vectors'\n",
    "    # Surrogate Pk\n",
    "    doc_id = Column(Integer, primary_key = True, autoincrement = True)\n",
    "    file_name = Column(String, nullable = False)\n",
    "    checksum = Column(String, nullable = False, unique = True)\n",
    "    vector = Column(LargeBinary, nullable = False)\n",
    "    Updated_at = Column(DateTime, default = lambda: datetime.now(timezone.utc), onupdate = lambda: datetime.now(timezone.utc), nullable = False)\n",
    "    # Chỉ cần thêm dấu , để biến nó thành tuple 1 phần tử\n",
    "    __table_args__ = (UniqueConstraint(\"checksum\",name =\"uq_document_checksum\"),)"
   ]
  },
  {
   "cell_type": "code",
   "execution_count": 4,
   "id": "c2c3b0d1",
   "metadata": {},
   "outputs": [],
   "source": [
    "DB_URL = os.environ[\"DB_URL\"]\n",
    "engine = create_engine(DB_URL, echo = False, connect_args = {\"sslmode\": \"require\"})\n",
    "SessionLocal = sessionmaker(bind = engine)\n",
    "Base.metadata.create_all(engine)"
   ]
  },
  {
   "cell_type": "code",
   "execution_count": null,
   "id": "a13aec8d",
   "metadata": {},
   "outputs": [
    {
     "name": "stdout",
     "output_type": "stream",
     "text": [
      "insert thanh cong\n"
     ]
    }
   ],
   "source": [
    "# insert thử\n",
    "# import numpy as np \n",
    "# dummy_vector = np.random.rand(128).astype(\"float32\").tobytes()\n",
    "\n",
    "# new_doc = DocumentVector(\n",
    "#     file_name = \"test.pdf\",\n",
    "#     checksum = \"abc123\",\n",
    "#     vector = dummy_vector\n",
    "# )\n",
    "# session = SessionLocal()\n",
    "# session.add(new_doc)\n",
    "# session.commit()\n",
    "# print(\"insert thanh cong\")"
   ]
  },
  {
   "cell_type": "code",
   "execution_count": null,
   "id": "56ac3eb3",
   "metadata": {},
   "outputs": [],
   "source": [
    "# print thử\n",
    "# docs = session.query(DocumentVector).all()\n",
    "# for d in docs:\n",
    "#     print(d.doc_id, d.file_name, d.checksum, len(d.vector))"
   ]
  },
  {
   "cell_type": "code",
   "execution_count": null,
   "id": "7d7e4da4",
   "metadata": {},
   "outputs": [
    {
     "name": "stdout",
     "output_type": "stream",
     "text": [
      "upd thanh cong\n"
     ]
    }
   ],
   "source": [
    "# upd checksum thử\n",
    "# doc = session.query(DocumentVector).filter_by(file_name = \"test.pdf\").first()\n",
    "# if doc:\n",
    "#     doc.checksum = \"asd233\"\n",
    "#     session.commit()\n",
    "# print(\"upd thanh cong\")"
   ]
  },
  {
   "cell_type": "code",
   "execution_count": null,
   "id": "fad2adcf",
   "metadata": {},
   "outputs": [
    {
     "name": "stdout",
     "output_type": "stream",
     "text": [
      "✅ Delete thành công!\n"
     ]
    }
   ],
   "source": [
    "# delete thử\n",
    "# doc = session.query(DocumentVector).filter_by(file_name=\"test.pdf\").first()\n",
    "# if doc:\n",
    "#     session.delete(doc)\n",
    "#     session.commit()\n",
    "#     print(\"✅ Delete thành công!\")"
   ]
  }
 ],
 "metadata": {
  "kernelspec": {
   "display_name": "t",
   "language": "python",
   "name": "python3"
  },
  "language_info": {
   "codemirror_mode": {
    "name": "ipython",
    "version": 3
   },
   "file_extension": ".py",
   "mimetype": "text/x-python",
   "name": "python",
   "nbconvert_exporter": "python",
   "pygments_lexer": "ipython3",
   "version": "3.12.10"
  }
 },
 "nbformat": 4,
 "nbformat_minor": 5
}
