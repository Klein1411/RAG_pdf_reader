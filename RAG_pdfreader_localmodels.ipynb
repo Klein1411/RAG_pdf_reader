{
 "cells": [
  {
   "cell_type": "code",
   "execution_count": 3,
   "id": "755146bc",
   "metadata": {},
   "outputs": [
    {
     "name": "stdout",
     "output_type": "stream",
     "text": [
      "Thiếu thư viện 'chromadb', đang cài đặt...\n",
      "Thiếu thư viện 'langchain', đang cài đặt...\n",
      "Thiếu thư viện 'ollama', đang cài đặt...\n",
      "Thiếu thư viện 'tiktoken', đang cài đặt...\n",
      "Thiếu thư viện 'PyPDF2', đang cài đặt...\n"
     ]
    }
   ],
   "source": [
    "import os\n",
    "import sys\n",
    "import subprocess\n",
    "import shutil\n",
    "import io\n",
    "\n",
    "# --- 1. Xoá thư mục chromadb cũ nếu tồn tại ---\n",
    "if os.path.isdir(\"chromadb\"):\n",
    "    print(\"Đang xóa thư mục chromadb cũ...\")\n",
    "    shutil.rmtree(\"chromadb\")\n",
    "\n",
    "# --- 3. Kiểm tra và cài đặt các thư viện cần thiết ---\n",
    "def ensure_package(pkg_name, import_name=None):\n",
    "    try:\n",
    "        __import__(import_name or pkg_name)\n",
    "    except ImportError:\n",
    "        print(f\"Thiếu thư viện '{pkg_name}', đang cài đặt...\")\n",
    "        subprocess.check_call([sys.executable, \"-m\", \"pip\", \"install\", pkg_name])\n",
    "        __import__(import_name or pkg_name)\n",
    "\n",
    "pkgs = [\n",
    "    (\"chromadb\", None),\n",
    "    (\"langchain\", None),\n",
    "    (\"ollama\", None),\n",
    "    (\"tiktoken\", None),\n",
    "    (\"PyPDF2\", None)\n",
    "]\n",
    "\n",
    "for pkg, imp in pkgs:\n",
    "    ensure_package(pkg, imp)"
   ]
  },
  {
   "cell_type": "code",
   "execution_count": null,
   "id": "24d7fd8a",
   "metadata": {},
   "outputs": [],
   "source": [
    "# --- Đọc PDF với decoder UTF-8 để tránh lỗi tuple ---\n",
    "import os\n",
    "from PyPDF2 import PdfReader\n",
    "from langchain.schema import Document\n",
    "\n",
    "pdf_path = \"./your_file.pdf\"  # Thay đường dẫn tới file PDF của bạn\n",
    "reader = PdfReader(pdf_path)\n",
    "docs = []\n",
    "\n",
    "for i, page in enumerate(reader.pages):\n",
    "    raw_text = page.extract_text() or \"\"\n",
    "    # Nếu raw_text là bytes, decode bằng utf-8 và bỏ ký tự không hợp lệ\n",
    "    if isinstance(raw_text, (bytes, bytearray)):\n",
    "        text = raw_text.decode(\"utf-8\", errors=\"ignore\")\n",
    "    else:\n",
    "        text = raw_text\n",
    "    docs.append(Document(\n",
    "        page_content=text,\n",
    "        metadata={\"source\": f\"{os.path.basename(pdf_path)}_page_{i+1}\"}\n",
    "    ))"
   ]
  },
  {
   "cell_type": "code",
   "execution_count": null,
   "id": "2051d8e9",
   "metadata": {},
   "outputs": [],
   "source": [
    "# --- 4. Import sau khi đã đảm bảo ---\n",
    "from langchain.document_loaders import PyPDFLoader\n",
    "from langchain.embeddings import OllamaEmbeddings\n",
    "from langchain.vectorstores import Chroma\n",
    "from langchain.llms import Ollama\n",
    "from langchain.chains import RetrievalQA\n",
    "\n",
    "# --- 5. Load PDF và chuẩn bị embedding + vector store local ---\n",
    "pdf_path = \"./your_file.pdf\" # chỉnh đường dẫn theo file của bạn\n",
    "docs = PyPDFLoader(pdf_path).load()"
   ]
  },
  {
   "cell_type": "code",
   "execution_count": null,
   "id": "b79dc54c",
   "metadata": {},
   "outputs": [],
   "source": [
    "# Sử dụng embedding model local\n",
    "embed_model = OllamaEmbeddings(model=\"gpt-oss:20b\")"
   ]
  },
  {
   "cell_type": "code",
   "execution_count": null,
   "id": "f5b79c9b",
   "metadata": {},
   "outputs": [],
   "source": [
    "# Tạo hoặc tải lại vector database local (chromadb)\n",
    "vectordb = Chroma.from_documents(\n",
    "documents=docs,\n",
    "embedding=embed_model,\n",
    "persist_directory=\"chromadb\"\n",
    ")\n",
    "# Lưu persist để tái sử dụng lần tới\n",
    "vectordb.persist()"
   ]
  },
  {
   "cell_type": "code",
   "execution_count": null,
   "id": "ce920b35",
   "metadata": {},
   "outputs": [],
   "source": [
    "# --- 6. Khởi tạo LLM local cho trả lời ---\n",
    "llm = Ollama(model=\"gpt-oss:20b\") # hoặc llama3:latest"
   ]
  },
  {
   "cell_type": "code",
   "execution_count": null,
   "id": "ac0362bc",
   "metadata": {},
   "outputs": [],
   "source": [
    "# --- 7. Thiết lập pipeline RAG ---\n",
    "retriever = vectordb.as_retriever(search_kwargs={\"k\": 4})\n",
    "qa_chain = RetrievalQA.from_chain_type(\n",
    "llm=llm,\n",
    "chain_type=\"stuff\",\n",
    "retriever=retriever,\n",
    "return_source_documents=True\n",
    ")"
   ]
  },
  {
   "cell_type": "code",
   "execution_count": null,
   "id": "c1505a1f",
   "metadata": {},
   "outputs": [],
   "source": [
    "# --- 8. Hàm hỏi đáp ---\n",
    "def ask(question: str):\n",
    "result = qa_chain({'query': question})\n",
    "print(\"=== ANSWER ===\")\n",
    "print(result['result'])\n",
    "print(\"=== SOURCES ===\")\n",
    "for src in result['source_documents']:\n",
    "print(f\"- {os.path.basename(src.metadata.get('source', ''))}\")"
   ]
  },
  {
   "cell_type": "code",
   "execution_count": null,
   "id": "00107eb9",
   "metadata": {},
   "outputs": [],
   "source": [
    "# Ví dụ sử dụng\n",
    "aif __name__ == \"__main__\":\n",
    "ask(\"Nhập câu hỏi của bạn về nội dung PDF ở đây...\")"
   ]
  }
 ],
 "metadata": {
  "kernelspec": {
   "display_name": "t",
   "language": "python",
   "name": "python3"
  },
  "language_info": {
   "codemirror_mode": {
    "name": "ipython",
    "version": 3
   },
   "file_extension": ".py",
   "mimetype": "text/x-python",
   "name": "python",
   "nbconvert_exporter": "python",
   "pygments_lexer": "ipython3",
   "version": "3.12.10"
  }
 },
 "nbformat": 4,
 "nbformat_minor": 5
}
