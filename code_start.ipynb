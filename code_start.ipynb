{
  "cells": [
    {
      "cell_type": "markdown",
      "metadata": {},
      "source": [
        "# 1. Cho phép bypass Execution Policy trong phiên này\n",
        "Set-ExecutionPolicy -ExecutionPolicy Bypass -Scope Process -Force\n",
        "\n",
        "# 2. Kích hoạt venv “t”\n",
        "& .\\t\\Scripts\\Activate.ps1"
      ]
    },
    {
      "cell_type": "markdown",
      "metadata": {},
      "source": [
        "đây là đoạn code test RAG truy vấn thông tin từ pdf, nếu muốn truy vấn đa dạng hơn cần sửa đầu đọc file, hoặc đọc folder"
      ]
    },
    {
      "cell_type": "markdown",
      "metadata": {},
      "source": [
        "Set-ExecutionPolicy -Scope Process -ExecutionPolicy Bypass\n",
        ".\\t\\Scripts\\Activate.ps1\n"
      ]
    },
    {
      "cell_type": "markdown",
      "metadata": {},
      "source": [
        "venv là t"
      ]
    }
  ],
  "metadata": {
    "colab": {
      "provenance": []
    },
    "kernelspec": {
      "display_name": "t",
      "language": "python",
      "name": "python3"
    },
    "language_info": {
      "codemirror_mode": {
        "name": "ipython",
        "version": 3
      },
      "file_extension": ".py",
      "mimetype": "text/x-python",
      "name": "python",
      "nbconvert_exporter": "python",
      "pygments_lexer": "ipython3",
      "version": "3.12.10"
    }
  },
  "nbformat": 4,
  "nbformat_minor": 0
}
